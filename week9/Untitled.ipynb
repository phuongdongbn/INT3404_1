{
 "cells": [
  {
   "cell_type": "code",
   "execution_count": null,
   "metadata": {},
   "outputs": [],
   "source": [
    "import cv2\n",
    "import numpy as np\n",
    "import glob\n",
    "\n",
    "def face_segment(path):\n",
    "    image = cv2.imread(path)\n",
    "    gray = cv2.cvtColor(image, cv2.COLOR_BGR2GRAY)\n",
    "\n",
    "    faceCascade = cv2.CascadeClassifier(\n",
    "        cv2.data.haarcascades + \"haarcascade_frontalface_default.xml\")\n",
    "    faces = faceCascade.detectMultiScale(\n",
    "        gray,\n",
    "        scaleFactor=1.3,\n",
    "        minNeighbors=3,\n",
    "        minSize=(30, 30)\n",
    "    )\n",
    "    mask = np.zeros(image.shape, np.uint8)\n",
    "    for (x, y, w, h) in faces:\n",
    "        cv2.rectangle(image, (x, y), (x + w, y + h), (0, 255, 0), 2)\n",
    "        mask[y:y+h, x:x+w] = image[y:y+h, x:x+w]\n",
    "    converted = cv2.cvtColor(mask, cv2.COLOR_BGR2HSV)\n",
    "    lower = np.array([0, 50, 60], dtype = \"uint8\")\n",
    "    upper = np.array([13, 150, 255], dtype = \"uint8\")\n",
    "    skinMask = cv2.inRange(converted, lower, upper)\n",
    "    kernel = cv2.getStructuringElement(cv2.MORPH_ELLIPSE, (7, 9))\n",
    "    skinMask = cv2.erode(skinMask, kernel, iterations = 3)\n",
    "    skinMask = cv2.dilate(skinMask, kernel, iterations = 5)\n",
    "    skinMask = cv2.GaussianBlur(skinMask, (3, 3), 0)\n",
    "    skin = cv2.bitwise_and(image, image, mask = skinMask)\n",
    "    cv2.imwrite('out1.jpg', skin )\n",
    "\n",
    "if __name__ == \"__main__\":\n",
    "    face_segment('homework-facedata/1.jpg')"
   ]
  }
 ],
 "metadata": {
  "kernelspec": {
   "display_name": "Python 3",
   "language": "python",
   "name": "python3"
  },
  "language_info": {
   "codemirror_mode": {
    "name": "ipython",
    "version": 3
   },
   "file_extension": ".py",
   "mimetype": "text/x-python",
   "name": "python",
   "nbconvert_exporter": "python",
   "pygments_lexer": "ipython3",
   "version": "3.6.9"
  }
 },
 "nbformat": 4,
 "nbformat_minor": 2
}
