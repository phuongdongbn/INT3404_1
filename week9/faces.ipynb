{
 "cells": [
  {
   "cell_type": "code",
   "execution_count": 8,
   "metadata": {},
   "outputs": [],
   "source": [
    "import cv2\n",
    "import numpy as np"
   ]
  },
  {
   "cell_type": "code",
   "execution_count": 108,
   "metadata": {},
   "outputs": [],
   "source": [
    "def detect_faces(path):\n",
    "    \n",
    "    img_input = cv2.imread(path)\n",
    "    img_gray = cv2.cvtColor(img_input, cv2.COLOR_BGR2GRAY)\n",
    "    \n",
    "    haar_cascade_face = cv2.CascadeClassifier(cv2.data.haarcascades + \"haarcascade_frontalface_default.xml\")\n",
    "    faces = haar_cascade_face.detectMultiScale(img_gray, scaleFactor = 1.3, minNeighbors = 3)\n",
    "    print('Faces found: ', len(faces))\n",
    "    \n",
    "    mask_face = np.zeros(img_input.shape, np.uint8)\n",
    "    for (x, y, w, h) in faces:\n",
    "        mask_face[y:y+h, x:x+w] = img_input[y:y+h, x:x+w]\n",
    "    img_hsv = cv2.cvtColor(mask_face, cv2.COLOR_BGR2HSV)\n",
    "    \n",
    "    lower = np.array([0, 40, 40], dtype = \"uint8\")\n",
    "    upper = np.array([15, 180, 255], dtype = \"uint8\")\n",
    "    face_range = cv2.inRange(img_hsv, lower, upper)\n",
    "    \n",
    "    kernel = cv2.getStructuringElement(cv2.MORPH_ELLIPSE, (7, 9))\n",
    "    img_erode = cv2.erode(face_range, kernel, iterations = 3)\n",
    "    img_dilate = cv2.dilate(img_erode, kernel, iterations = 10)\n",
    "    blur = cv2.GaussianBlur(img_dilate, (3, 3), 0)\n",
    "    skins = cv2.bitwise_and(img_input, img_input, mask = blur)\n",
    "    \n",
    "    cv2.imwrite('out-'+ path, skins)"
   ]
  },
  {
   "cell_type": "code",
   "execution_count": 109,
   "metadata": {},
   "outputs": [
    {
     "name": "stdout",
     "output_type": "stream",
     "text": [
      "Faces found:  1\n",
      "Faces found:  1\n",
      "Faces found:  2\n"
     ]
    }
   ],
   "source": [
    "if __name__ == \"__main__\":\n",
    "    a = ['1', '2', '3']\n",
    "    for i in range(0,3):\n",
    "        detect_faces('homework-facedata/'+a[i]+'.jpg')"
   ]
  }
 ],
 "metadata": {
  "kernelspec": {
   "display_name": "Python 3",
   "language": "python",
   "name": "python3"
  },
  "language_info": {
   "codemirror_mode": {
    "name": "ipython",
    "version": 3
   },
   "file_extension": ".py",
   "mimetype": "text/x-python",
   "name": "python",
   "nbconvert_exporter": "python",
   "pygments_lexer": "ipython3",
   "version": "3.6.9"
  }
 },
 "nbformat": 4,
 "nbformat_minor": 2
}
